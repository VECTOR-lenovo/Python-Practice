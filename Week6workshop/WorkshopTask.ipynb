{
 "cells": [
  {
   "metadata": {},
   "cell_type": "markdown",
   "source": "**Example1**",
   "id": "9bf7e263711b05cf"
  },
  {
   "metadata": {},
   "cell_type": "code",
   "outputs": [],
   "execution_count": null,
   "source": [
    "def listLen(v):\n",
    "\n",
    "    count = 0\n",
    "\n",
    "    for i in v:\n",
    "\n",
    "        count += 1\n",
    "\n",
    "    return count\n",
    "\n",
    "# what the program does?"
   ],
   "id": "64f055f49e6e0ba4"
  },
  {
   "metadata": {},
   "cell_type": "markdown",
   "source": "**Ans:** **The program above counts the number of elements inside a function listen.**",
   "id": "af725d97cb16d4eb"
  },
  {
   "metadata": {},
   "cell_type": "markdown",
   "source": "**Example2**",
   "id": "7f0967cde62c9f6d"
  },
  {
   "metadata": {},
   "cell_type": "code",
   "outputs": [],
   "execution_count": null,
   "source": [
    "def raises(x, n):\n",
    "\n",
    "    if n == 0: # base case\n",
    "\n",
    "        return 1\n",
    "\n",
    "    else:\n",
    "\n",
    "        return (x * raises(x, n-1))"
   ],
   "id": "2f60f504de33e50e"
  },
  {
   "metadata": {},
   "cell_type": "markdown",
   "source": [
    "**What the program does?**\n",
    "**Ans:** **The program above calculates the power of a number using recursion.**"
   ],
   "id": "fcbca8f00d2841c8"
  },
  {
   "metadata": {},
   "cell_type": "markdown",
   "source": "**TASK01**",
   "id": "63ff8c0732c1e73b"
  },
  {
   "metadata": {},
   "cell_type": "markdown",
   "source": "**a. Implement definitions of 𝑓(𝑛) and 𝑙𝑖𝑠𝑡𝑆𝑒𝑎𝑟𝑐ℎ(𝑚,𝑛) in Python function.**",
   "id": "223cd1a874398890"
  },
  {
   "metadata": {},
   "cell_type": "code",
   "outputs": [],
   "execution_count": null,
   "source": [
    "def f(n):\n",
    "    if n == 0:\n",
    "        return 1\n",
    "    else:\n",
    "        return n * f(n - 1)\n",
    "\n",
    "def listSearch(m, n):\n",
    "    for index, element in enumerate(n):\n",
    "        if element == m:\n",
    "            return index\n",
    "    return -1"
   ],
   "id": "676ed6f19bc48e97"
  },
  {
   "metadata": {},
   "cell_type": "markdown",
   "source": "**Example 3**",
   "id": "89f96f13710dd39c"
  },
  {
   "metadata": {},
   "cell_type": "code",
   "outputs": [],
   "execution_count": null,
   "source": [
    "def pow10(n):\n",
    "\n",
    "    if n == 0: # base case\n",
    "\n",
    "        return 1\n",
    "\n",
    "    else:\n",
    "\n",
    "        return pow10(n-1) * 10"
   ],
   "id": "240a25c64ee97336"
  },
  {
   "metadata": {},
   "cell_type": "markdown",
   "source": [
    "**What the program does?**\n",
    "**Ans:** **The program above calculates 10^n using recursion.**"
   ],
   "id": "7dd143fdc4cb796a"
  },
  {
   "metadata": {},
   "cell_type": "markdown",
   "source": "**Example 4**",
   "id": "8e8bee4843486101"
  },
  {
   "metadata": {},
   "cell_type": "code",
   "outputs": [],
   "execution_count": null,
   "source": [
    "def fact(n):\n",
    "\n",
    "    if n == 1:\n",
    "\n",
    "        return 1\n",
    "\n",
    "    else:\n",
    "        return n *fact(n-1)"
   ],
   "id": "9a837f23d9c8df34"
  },
  {
   "metadata": {},
   "cell_type": "markdown",
   "source": [
    "**which part of it (if any) is recursive and why? Identify the components that makes it recursive.**\n",
    "**Ans:** **The function calls itself with a smaller value of n (n-1) until it reaches the base case (n == 1). This is the recursive part of the function.**"
   ],
   "id": "f15508ac2eeefbf5"
  },
  {
   "metadata": {},
   "cell_type": "markdown",
   "source": "**TASK02**",
   "id": "c0e3b1a41a732278"
  },
  {
   "metadata": {},
   "cell_type": "markdown",
   "source": "**a. Write a recursive function to find the sum of first n natural numbers.**",
   "id": "240866972b80a453"
  },
  {
   "metadata": {},
   "cell_type": "code",
   "outputs": [],
   "execution_count": null,
   "source": [
    "def sum_n_numbers(n):\n",
    "    if n == 1:\n",
    "        return 1\n",
    "    else:\n",
    "        return n + sum_n_numbers(n - 1)"
   ],
   "id": "45c756306f976e30"
  },
  {
   "metadata": {},
   "cell_type": "markdown",
   "source": "** b. Write a non-recursive function, called sumDigits(i), that takes a positive integer and returns the sum of the digits in the integer. i.e. sumDigitsi(16) = 7, sumDigitsi(111) = 3.**",
   "id": "afa7e4e8faa20ed0"
  },
  {
   "metadata": {
    "ExecuteTime": {
     "end_time": "2025-04-07T03:04:25.024580Z",
     "start_time": "2025-04-07T03:04:25.017691Z"
    }
   },
   "cell_type": "code",
   "source": [
    "def sumDigits(i):\n",
    "    sum = 0\n",
    "    while i > 0:\n",
    "        sum += i % 10\n",
    "        i //= 10\n",
    "    return sum\n",
    "print(sumDigits(67))"
   ],
   "id": "27ce3661fc519fd8",
   "outputs": [
    {
     "name": "stdout",
     "output_type": "stream",
     "text": [
      "13\n"
     ]
    }
   ],
   "execution_count": 31
  },
  {
   "metadata": {},
   "cell_type": "markdown",
   "source": "**Rewrite the solution from question 5) this time as a recursive function (call it sumDigitsr) that returns the sum of the digits in a positive integer. i.e. sumDigitsr(42) = 6, sumDigitsr(1234) = 10**",
   "id": "943591f56abc3385"
  },
  {
   "metadata": {
    "ExecuteTime": {
     "end_time": "2025-04-07T02:55:35.515968Z",
     "start_time": "2025-04-07T02:55:35.509801Z"
    }
   },
   "cell_type": "code",
   "source": [
    "def sumDigitsr(i):\n",
    "    if i == 0:\n",
    "        return 0\n",
    "    else:\n",
    "        return i % 10 + sumDigitsr(i // 10)\n",
    "print(sumDigitsr(42))\n",
    "print(sumDigitsr(1234))"
   ],
   "id": "d41b254bbfdcbea6",
   "outputs": [
    {
     "name": "stdout",
     "output_type": "stream",
     "text": [
      "6\n",
      "10\n"
     ]
    }
   ],
   "execution_count": 30
  },
  {
   "metadata": {},
   "cell_type": "markdown",
   "source": "",
   "id": "6e73fed3f71ed557"
  },
  {
   "metadata": {},
   "cell_type": "markdown",
   "source": [
    "**d. The listSearch function (as defined in the preamble) is able to find items on a flat list. However, neither listSearch or the in operator are able to find items in a tree data structure such as [1,2,[3,[4],5],6,[7,8]]. So write a new recursive Python function that is able to find items on a tree, such that:\n",
    "\n",
    "treeSearch(4, [1,2,[3,[4],5],6,[7,8]]) => True treeSearch(9, [1,2,[3,[4],5],6,[7,8]]) => False\n",
    "\n",
    "Test your solution to ensure it accurately returns True or False.**"
   ],
   "id": "d9c130518c61442e"
  },
  {
   "metadata": {
    "ExecuteTime": {
     "end_time": "2025-04-07T03:08:46.318133Z",
     "start_time": "2025-04-07T03:08:46.310404Z"
    }
   },
   "cell_type": "code",
   "source": [
    "def treeSearch(num, lis):\n",
    "    if num in lis:\n",
    "        return True\n",
    "    for item in lis:\n",
    "        if isinstance(item, list):\n",
    "            if treeSearch(num, item):\n",
    "                return True\n",
    "    return False\n",
    "print(treeSearch(4, [1,2,[3,[4],5],6,[7,8]]))\n",
    "print(treeSearch(9, [1,2,[3,[4],5],6,[7,8]]))\n",
    "\n",
    "\n",
    "\n"
   ],
   "id": "7f96865118bd4284",
   "outputs": [
    {
     "name": "stdout",
     "output_type": "stream",
     "text": [
      "True\n",
      "False\n"
     ]
    }
   ],
   "execution_count": 35
  },
  {
   "metadata": {},
   "cell_type": "markdown",
   "source": "**TASK03**",
   "id": "2aba362ecaa6ec9"
  },
  {
   "metadata": {},
   "cell_type": "markdown",
   "source": "**a. Write a python program to solve the Tower of Hanoi.**",
   "id": "fa36f769aed1165a"
  },
  {
   "metadata": {
    "ExecuteTime": {
     "end_time": "2025-04-07T04:06:09.622365Z",
     "start_time": "2025-04-07T04:06:09.613699Z"
    }
   },
   "cell_type": "code",
   "outputs": [
    {
     "name": "stdout",
     "output_type": "stream",
     "text": [
      "Move disk 1 from A to C\n",
      "Move disk 2 from A to B\n",
      "Move disk 1 from C to B\n",
      "Move disk 3 from A to C\n",
      "Move disk 1 from B to A\n",
      "Move disk 2 from B to C\n",
      "Move disk 1 from A to C\n"
     ]
    }
   ],
   "execution_count": 37,
   "source": [
    "def tower_of_hanoi(n, source, support, target):\n",
    "    if n == 1:\n",
    "        print(f\"Move disk 1 from {source} to {target}\")\n",
    "        return\n",
    "    tower_of_hanoi(n - 1, source, target, support)\n",
    "    print(f\"Move disk {n} from {source} to {target}\")\n",
    "    tower_of_hanoi(n - 1, support, source, target)\n",
    "\n",
    "n = 3\n",
    "tower_of_hanoi(n, 'A', 'B', 'C')\n"
   ],
   "id": "f3643221dcdae7e3"
  }
 ],
 "metadata": {
  "kernelspec": {
   "display_name": "Python 3",
   "language": "python",
   "name": "python3"
  },
  "language_info": {
   "codemirror_mode": {
    "name": "ipython",
    "version": 2
   },
   "file_extension": ".py",
   "mimetype": "text/x-python",
   "name": "python",
   "nbconvert_exporter": "python",
   "pygments_lexer": "ipython2",
   "version": "2.7.6"
  }
 },
 "nbformat": 4,
 "nbformat_minor": 5
}
